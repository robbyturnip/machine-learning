{
 "cells": [
  {
   "cell_type": "code",
   "execution_count": 26,
   "metadata": {},
   "outputs": [],
   "source": [
    "import re\n",
    "import nltk\n",
    "import json\n",
    "import pickle\n",
    "import pandas as pd\n",
    "from nltk.tokenize import word_tokenize\n",
    "from sklearn.naive_bayes import GaussianNB\n",
    "from sklearn.metrics import accuracy_score\n",
    "from sklearn.neural_network import MLPClassifier\n",
    "from sklearn.model_selection import train_test_split\n",
    "from Sastrawi.Stemmer.StemmerFactory import StemmerFactory\n",
    "from sklearn.feature_extraction.text import CountVectorizer"
   ]
  },
  {
   "cell_type": "code",
   "execution_count": 2,
   "metadata": {},
   "outputs": [],
   "source": [
    "#fungsi mengubah ke kata dasar\n",
    "def getstemmer():\n",
    "    factory = StemmerFactory()\n",
    "    stemmer = factory.create_stemmer()\n",
    "    \n",
    "    return stemmer"
   ]
  },
  {
   "cell_type": "code",
   "execution_count": 3,
   "metadata": {},
   "outputs": [],
   "source": [
    "#fungsi memanggil stopword\n",
    "def getstopword():\n",
    "    fp = open(r'stopwords.txt', 'r')\n",
    "    line = fp.readline()\n",
    "    stopwords = []\n",
    "    while line:\n",
    "        word = line.strip()\n",
    "        stopwords.append(word)\n",
    "        line = fp.readline()\n",
    "    fp.close()\n",
    "    \n",
    "    return stopwords"
   ]
  },
  {
   "cell_type": "code",
   "execution_count": 4,
   "metadata": {},
   "outputs": [],
   "source": [
    "def preprocessing(tweet):\n",
    "    stopwords = getstopword()\n",
    "    stemmer   = getstemmer()\n",
    "    #membuat string ke huruf kecil\n",
    "    tweet = tweet.lower()\n",
    "    #menghapus character/link yang tidak digunakan dengan regex\n",
    "    tweet = re.sub(\"\\d+\",' ', tweet)\n",
    "    tweet = re.sub(\"http([^\\s|,])+\",' ', tweet)\n",
    "    tweet = re.sub(\"www([^\\s|,])+\",' ', tweet)\n",
    "    tweet = re.sub(\"^rt[\\s]+\", ' ', tweet)\n",
    "    tweet = re.sub(\"[-()\\\"#%/@;:<>{}$`^+'=~*&|.!?,]|\\d\",' ',tweet)\n",
    "    #tokenize string\n",
    "    tweets = word_tokenize(tweet)\n",
    "    #menghapus beberapa kalimat yang tidak mengubah makna sentiment dalam kalimat dengan stopwords\n",
    "    tweet = []    \n",
    "    for word in tweets:\n",
    "        if word not in stopwords: \n",
    "            word = stemmer.stem(word)\n",
    "            tweet.append(word)\n",
    "        else:\n",
    "            pass\n",
    "            \n",
    "    tweet = ' '.join(tweet)\n",
    "    \n",
    "    return tweet"
   ]
  },
  {
   "cell_type": "code",
   "execution_count": 5,
   "metadata": {},
   "outputs": [],
   "source": [
    "ngram_counter = CountVectorizer(ngram_range=(2, 4), analyzer='word')"
   ]
  },
  {
   "cell_type": "code",
   "execution_count": 42,
   "metadata": {},
   "outputs": [],
   "source": [
    "df = pd.read_csv('dataset.csv')\n",
    "tweet_list = df['text'][:5000]\n",
    "sentiment_list = df['sentiment'][:5000]\n",
    "\n",
    "for index,tweet in enumerate(tweet_list):\n",
    "    tweet = preprocessing(tweet)\n",
    "    tweet_list[index] = tweet"
   ]
  },
  {
   "cell_type": "code",
   "execution_count": 43,
   "metadata": {},
   "outputs": [],
   "source": [
    "x_train, x_test, y_train, y_test = train_test_split(tweet_list, sentiment_list, test_size=0.2, random_state=10)"
   ]
  },
  {
   "cell_type": "code",
   "execution_count": 44,
   "metadata": {},
   "outputs": [],
   "source": [
    "x_train = ngram_counter.fit_transform(x_train)\n",
    "x_test  = ngram_counter.transform(x_test)\n",
    "x_train = x_train.toarray()\n",
    "x_test = x_test.toarray()"
   ]
  },
  {
   "cell_type": "code",
   "execution_count": 45,
   "metadata": {},
   "outputs": [
    {
     "data": {
      "text/plain": [
       "0.827"
      ]
     },
     "execution_count": 45,
     "metadata": {},
     "output_type": "execute_result"
    }
   ],
   "source": [
    "classifier = MLPClassifier()\n",
    "model = classifier.fit(x_train, y_train)\n",
    "\n",
    "f = open('sentiment_2.pickle', 'wb')\n",
    "pickle.dump(model, f)\n",
    "f.close()\n",
    "\n",
    "result_prediction = model.predict(x_test)\n",
    "\n",
    "accuracy_score(result_prediction, y_test)"
   ]
  },
  {
   "cell_type": "code",
   "execution_count": null,
   "metadata": {},
   "outputs": [],
   "source": []
  }
 ],
 "metadata": {
  "kernelspec": {
   "display_name": "Python 3",
   "language": "python",
   "name": "python3"
  },
  "language_info": {
   "codemirror_mode": {
    "name": "ipython",
    "version": 3
   },
   "file_extension": ".py",
   "mimetype": "text/x-python",
   "name": "python",
   "nbconvert_exporter": "python",
   "pygments_lexer": "ipython3",
   "version": "3.6.8"
  }
 },
 "nbformat": 4,
 "nbformat_minor": 2
}
