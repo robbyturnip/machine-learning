{
 "cells": [
  {
   "cell_type": "markdown",
   "metadata": {
    "colab_type": "text",
    "id": "view-in-github"
   },
   "source": [
    "<a href=\"https://colab.research.google.com/github/robbyturnip/machine_learning/blob/master/sentiment_twitter.ipynb\" target=\"_parent\"><img src=\"https://colab.research.google.com/assets/colab-badge.svg\" alt=\"Open In Colab\"/></a>"
   ]
  },
  {
   "cell_type": "code",
   "execution_count": 3,
   "metadata": {
    "colab": {
     "base_uri": "https://localhost:8080/",
     "height": 69
    },
    "colab_type": "code",
    "id": "ZQKmhamiYaOx",
    "outputId": "258b1aac-5812-46c5-902f-7ea8e50810e5"
   },
   "outputs": [],
   "source": [
    "import re\n",
    "import csv\n",
    "import json\n",
    "import pprint\n",
    "import pickle\n",
    "import pandas as pd\n",
    "import nltk.classify\n",
    "from nltk.tokenize import word_tokenize "
   ]
  },
  {
   "cell_type": "code",
   "execution_count": 19,
   "metadata": {
    "colab": {
     "base_uri": "https://localhost:8080/",
     "height": 34
    },
    "colab_type": "code",
    "id": "pbxW1uogZU3d",
    "outputId": "544b5c4e-8e04-46da-f851-53758fec70fa"
   },
   "outputs": [],
   "source": [
    "def replaceTwoOrMore(s):\n",
    "    pattern = re.compile(r\"(.)\\1{1,}\", re.DOTALL) \n",
    "    return pattern.sub(r\"\\1\\1\", s)\n",
    "\n",
    "def processTweet(tweet):\n",
    "    tweet = tweet.lower()\n",
    "    tweet = re.sub('((www\\.[^\\s]+)|(https?://[^\\s]+))','URL',tweet)\n",
    "    tweet = re.sub('@[^\\s]+','AT_USER',tweet)    \n",
    "    tweet = re.sub('[\\s]+', ' ', tweet)\n",
    "    tweet = re.sub(r'#([^\\s]+)', r'\\1', tweet)\n",
    "    tweet = tweet.strip('\\'\"')\n",
    "    return tweet\n",
    "\n",
    "def getStopWordList(stopWordListFileName):\n",
    "    stopWords = []\n",
    "    stopWords.append('AT_USER')\n",
    "    stopWords.append('URL')\n",
    "\n",
    "    fp = open(stopWordListFileName, 'r')\n",
    "    line = fp.readline()\n",
    "    while line:\n",
    "        word = line.strip()\n",
    "        stopWords.append(word)\n",
    "        line = fp.readline()\n",
    "    fp.close()\n",
    "    \n",
    "    return stopWords\n",
    "\n",
    "def getFeatureVector(tweet, stopWords):\n",
    "    featureVector = []  \n",
    "    words = tweet.split()\n",
    "    for w in words:\n",
    "        w = replaceTwoOrMore(w) \n",
    "        w = w.strip('\\'\"?,.')\n",
    "        val = re.search(r\"^[a-zA-Z][a-zA-Z0-9]*[a-zA-Z]+[a-zA-Z0-9]*$\", w)\n",
    "        if(w in stopWords or val is None):\n",
    "            continue\n",
    "        else:\n",
    "            featureVector.append(w.lower())\n",
    "    return featureVector    \n",
    "\n",
    "def extract_features(tweet):\n",
    "    tweet_words = set(tweet)\n",
    "    features = {}\n",
    "    for word in featureList:\n",
    "        features['contains(%s)' % word] = (word in tweet_words)\n",
    "    return features\n",
    "\n",
    "def getSVMFeatureVectorAndLabels(tweets, featureList):\n",
    "    feature_vector = []\n",
    "    sentiment = []\n",
    "    for t in tweets:\n",
    "        print(t)\n",
    "        sentiment = 0\n",
    "        tweet_words = t[0]\n",
    "        tweet_opinion = t[1]\n",
    "        for word in tweet_words:\n",
    "            word = replaceTwoOrMore(word) \n",
    "            word = word.strip('\\'\"?,.')\n",
    "        values = map.values()\n",
    "        feature_vector.append(values)\n",
    "        if(tweet_opinion == 'positive'):\n",
    "            sentiment = 0\n",
    "        elif(tweet_opinion == 'negative'):\n",
    "            sentiment = 1\n",
    "        elif(tweet_opinion == 'neutral'):\n",
    "            sentiment = 2\n",
    "        sentiment.append(sentiment)\n",
    "\n",
    "    return {'feature_vector' : feature_vector, 'sentiment': sentiment}\n",
    "\n",
    "inpTweets = csv.reader(open('datatrain.csv', 'r'), delimiter=',')\n",
    "stopWords = getStopWordList('stopwordsID.txt')\n",
    "count = 0;\n",
    "featureList = []\n",
    "tweets = []\n",
    "list_data = []\n",
    "\n",
    "for index,row in enumerate(inpTweets):\n",
    "    \n",
    "    if index == 0:\n",
    "        pass\n",
    "    \n",
    "    elif index <= 1001 :\n",
    "        sentiment = row[1]\n",
    "        tweet = row[2]\n",
    "        tweet = processTweet(tweet)\n",
    "        mydata = (tweet,sentiment)\n",
    "        tweet = getFeatureVector(tweet,stopWords)\n",
    "        tweet = ' '.join(tweet)\n",
    "        mydata = (tweet,sentiment)\n",
    "        list_data.append(mydata)\n",
    "        \n",
    "    else :\n",
    "        pass\n",
    "\n",
    "json_dict = {}\n",
    "all_words = set(word.lower() for passage in list_data for word in word_tokenize(passage[0]))\n",
    "json_dict['corpus'] = [word for word in all_words]\n",
    "\n",
    "with open('corpus.json', 'w') as outfile:\n",
    "    json.dump(json_dict, outfile)\n",
    "    \n",
    "t = [({word.lower(): (word.lower() in word_tokenize(x[0].lower())) for word in all_words}, x[1].lower()) for x in list_data]\n",
    "classifier = nltk.NaiveBayesClassifier.train(t)\n",
    "f = open('sentiment.pickle', 'wb')\n",
    "pickle.dump(classifier, f)\n",
    "f.close()"
   ]
  },
  {
   "cell_type": "code",
   "execution_count": 26,
   "metadata": {
    "colab": {},
    "colab_type": "code",
    "id": "yaj2vFT_ZYHV"
   },
   "outputs": [
    {
     "name": "stdout",
     "output_type": "stream",
     "text": [
      "12.0\n"
     ]
    }
   ],
   "source": [
    "f = open('sentiment.pickle', 'rb')\n",
    "classifier = pickle.load(f)\n",
    "f.close()\n",
    "\n",
    "\n",
    "d = open('corpus.json')\n",
    "all_words = json.load(d)\n",
    "d.close\n",
    "\n",
    "list_tweet =  []\n",
    "list_kelas = []\n",
    "list_data = []\n",
    "\n",
    "data_test = csv.reader(open('datatest.csv', 'r'), delimiter=',')\n",
    "for data in data_test:\n",
    "    list_data.append(data)\n",
    "\n",
    "for data in list_data[:100]:\n",
    "    tweet = data[0]\n",
    "    tweet = processTweet(tweet)\n",
    "    tweet = getFeatureVector(tweet,stopWords)\n",
    "    tweet = ' '.join(tweet)\n",
    "    test_sent_features = {word.lower(): (word in word_tokenize(tweet.lower())) for word in all_words}\n",
    "    sentiment = classifier.classify(test_sent_features)\n",
    "    list_tweet.append(data[0])\n",
    "    list_kelas.append(sentiment)\n",
    "\n",
    "df = pd.DataFrame({'tweet': list_tweet,'kelas': list_kelas})\n",
    "df.to_csv('hasiltest.csv', sep=';', encoding='utf-8', index=False)\n",
    "test_set = csv.reader(open('hasiltest.csv', 'r'), delimiter=';')\n",
    "data_list = []\n",
    "\n",
    "for index,data in enumerate(test_set):\n",
    "    if index == 0:\n",
    "        pass\n",
    "    elif index < 101 :\n",
    "        sentiment = data[1]\n",
    "        tweet = data[0]\n",
    "        tweet = processTweet(tweet)\n",
    "        tweet = getFeatureVector(tweet,stopWords)\n",
    "        tweet = ' '.join(tweet)\n",
    "        mydata = (tweet,sentiment)\n",
    "        data_list.append(mydata)\n",
    "    else:\n",
    "        pass\n",
    "\n",
    "all_words = all_words['corpus']\n",
    "\n",
    "test_set = [({word.lower() : (word.lower() in word_tokenize(x[0])) for word in all_words}, x[1]) for x in data_list]\n",
    "accuracy = (nltk.classify.util.accuracy(classifier, test_set))*100\n",
    "print(accuracy)\n"
   ]
  },
  {
   "cell_type": "code",
   "execution_count": 27,
   "metadata": {},
   "outputs": [
    {
     "name": "stdout",
     "output_type": "stream",
     "text": [
      "Most Informative Features\n",
      "                   ritel = True           negati : positi =     11.3 : 1.0\n",
      "                   tutup = True           negati : positi =     11.0 : 1.0\n",
      "                    lesu = True           negati : positi =      8.2 : 1.0\n",
      "                   orang = True           positi : negati =      8.1 : 1.0\n",
      "                   utang = True           negati : positi =      7.3 : 1.0\n",
      "                    toko = True           negati : positi =      6.8 : 1.0\n",
      "                  kredit = True           negati : positi =      6.8 : 1.0\n",
      "                   turun = True           negati : positi =      6.7 : 1.0\n",
      "                   mahal = True           negati : positi =      6.5 : 1.0\n",
      "              penjelasan = True           negati : positi =      6.5 : 1.0\n"
     ]
    }
   ],
   "source": [
    "feature = classifier.show_most_informative_features(10)"
   ]
  },
  {
   "cell_type": "code",
   "execution_count": null,
   "metadata": {},
   "outputs": [],
   "source": []
  }
 ],
 "metadata": {
  "colab": {
   "collapsed_sections": [],
   "include_colab_link": true,
   "name": "mbak_sef.ipynb",
   "provenance": []
  },
  "kernelspec": {
   "display_name": "Python 3",
   "language": "python",
   "name": "python3"
  },
  "language_info": {
   "codemirror_mode": {
    "name": "ipython",
    "version": 3
   },
   "file_extension": ".py",
   "mimetype": "text/x-python",
   "name": "python",
   "nbconvert_exporter": "python",
   "pygments_lexer": "ipython3",
   "version": "3.6.8"
  }
 },
 "nbformat": 4,
 "nbformat_minor": 1
}
